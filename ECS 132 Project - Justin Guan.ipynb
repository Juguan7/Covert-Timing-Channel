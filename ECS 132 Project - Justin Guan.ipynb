{
 "cells": [
  {
   "cell_type": "code",
   "execution_count": 91,
   "id": "564843d9",
   "metadata": {},
   "outputs": [],
   "source": [
    "#ECS 132 Project \n",
    "#Justin Guan\n",
    "\n",
    "import numpy as np\n",
    "import statistics\n",
    "from tabulate import tabulate\n",
    "import random\n",
    "from tqdm import tqdm"
   ]
  },
  {
   "cell_type": "code",
   "execution_count": 130,
   "id": "a960c784",
   "metadata": {},
   "outputs": [
    {
     "name": "stdout",
     "output_type": "stream",
     "text": [
      "01110100011010000110100101110011010000001101001011100110100000011000010100000011100110110010101100011011100100110010101110100010000001101101011001010111001101110011011000010110011101100101\n"
     ]
    }
   ],
   "source": [
    "#4.1\n",
    "string_s = \"this is a secret message\"\n",
    "store = \"\"\n",
    "for character in string_s:\n",
    "    store+=bin(ord(character)).replace('b','')\n",
    "    \n",
    "print(store)\n"
   ]
  },
  {
   "cell_type": "code",
   "execution_count": 93,
   "id": "edde67ec",
   "metadata": {
    "scrolled": false
   },
   "outputs": [
    {
     "name": "stdout",
     "output_type": "stream",
     "text": [
      "     Packet Number        Time\n",
      "0                 1   0.000000\n",
      "1                 2   0.001104\n",
      "2                 3   0.007637\n",
      "3                 4   0.040841\n",
      "4                 5   0.119045\n",
      "..              ...        ...\n",
      "496             497  50.384480\n",
      "497             498  50.398880\n",
      "498             499  50.473850\n",
      "499             500  50.551120\n",
      "500             501  50.563660\n",
      "\n",
      "[501 rows x 2 columns]\n"
     ]
    },
    {
     "data": {
      "image/png": "[encoded data removed]",
      "text/plain": [
       "<Figure size 432x288 with 1 Axes>"
      ]
     },
     "metadata": {
      "needs_background": "light"
     },
     "output_type": "display_data"
    }
   ],
   "source": [
    "#4.2\n",
    "\n",
    "file = pd.read_csv (r'C:\\Users\\14156\\Downloads\\Traffic_data_orig.csv')\n",
    "print(file)\n",
    "data = file.to_numpy()\n",
    "\n",
    "delay = list()\n",
    "for i in range(1, len(data)):\n",
    "    delay.append( data[i][1] - data[i - 1][1])\n",
    "\n",
    "chart = pd.DataFrame(delay)\n",
    "plt.hist(chart)\n",
    "plt.ylabel('time')\n",
    "plt.xlabel('delay')\n",
    "plt.title('Inter-packet Delays')\n",
    "\n",
    "plt.show()\n"
   ]
  },
  {
   "cell_type": "code",
   "execution_count": 94,
   "id": "43ae9de8",
   "metadata": {},
   "outputs": [
    {
     "name": "stdout",
     "output_type": "stream",
     "text": [
      "[0.25, 0.75, 0.75, 0.75, 0.25, 0.75, 0.25, 0.25, 0.25, 0.75, 0.75, 0.25, 0.75]\n"
     ]
    }
   ],
   "source": [
    "#4.3\n",
    "x = [0, 1, 1, 1, 0, 1, 0, 0, 0, 1, 1, 0, 1]  #A few bits from the secret message in 4.1 \n",
    "y = []\n",
    "for i in x:\n",
    "    if(x[i] == 0):\n",
    "        y.append(.25)\n",
    "    else:\n",
    "        y.append(.75)\n",
    "print(y)"
   ]
  },
  {
   "cell_type": "code",
   "execution_count": 95,
   "id": "8d1af047",
   "metadata": {},
   "outputs": [
    {
     "data": {
      "image/png": "[encoded data removed]",
      "text/plain": [
       "<Figure size 432x288 with 1 Axes>"
      ]
     },
     "metadata": {
      "needs_background": "light"
     },
     "output_type": "display_data"
    }
   ],
   "source": [
    "#4.4\n",
    "x = pd.DataFrame(y)\n",
    "plt.hist(x)\n",
    "plt.ylabel('time')\n",
    "plt.xlabel('delay')\n",
    "plt.title('Covert Packet Stream')\n",
    "\n",
    "plt.show()\n",
    "\n"
   ]
  },
  {
   "cell_type": "code",
   "execution_count": null,
   "id": "944ff91f",
   "metadata": {},
   "outputs": [],
   "source": [
    "#4.4\n",
    "#Yes Eve will be suspicious because the delay will be very accurate looking at the histogram above."
   ]
  },
  {
   "cell_type": "code",
   "execution_count": 102,
   "id": "6540aa13",
   "metadata": {},
   "outputs": [
    {
     "name": "stdout",
     "output_type": "stream",
     "text": [
      "Median:\n",
      "0.0768999999999993\n",
      "Minimum:\n",
      "9.999999996068709e-06\n",
      "Maximum:\n",
      "0.7319900000000032\n"
     ]
    }
   ],
   "source": [
    "#4.5\n",
    "\n",
    "x = pd.DataFrame(delay)\n",
    "#print(delay)\n",
    "med = statistics.median(delay)\n",
    "print(\"Median:\")\n",
    "print(med)\n",
    "mini = min(delay)\n",
    "maxi = max(delay)\n",
    "print(\"Minimum:\")\n",
    "print(mini)\n",
    "print(\"Maximum:\")\n",
    "print(maxi)\n"
   ]
  },
  {
   "cell_type": "code",
   "execution_count": 103,
   "id": "1d6b8081",
   "metadata": {},
   "outputs": [
    {
     "name": "stdout",
     "output_type": "stream",
     "text": [
      "[0.02675404812110536, 0.4687593031004226, 0.643709737598558, 0.4878095933399778, 0.060108874160746784, 0.28956610727768184, 0.0019952186592902153, 0.026804491328938057, 0.06620145001404347, 0.19774672521707962, 0.2124219036187089, 0.031712352822460106, 0.5714166413773385, 0.03525831777094317, 0.010658314574839556, 0.052523331766571896, 0.036898524801086, 0.6916137908587305, 0.16063011255274712, 0.03949818772226788, 0.2350559861376586, 0.0006356182350899182, 0.03153461181363766, 0.2786022079180893, 0.07444639671098383, 0.7185531615726367, 0.6017728429892883, 0.1839372494514171, 0.0024420572998748802, 0.021036840128989143, 0.28148844528646805, 0.37043846895073795, 0.0575670108475889, 0.484776556682388, 0.014560884046685202, 0.02792037435369332, 0.0034911947625553908, 0.07094280033331218, 0.06407657757935208, 0.04277065286821867, 0.40654404401633704, 0.2318742100667996, 0.03789609716344621, 0.6860381406116376, 0.04003184155377822, 0.027240202353926407, 0.3679656489222254, 0.00019530147951890282, 0.10888617454252247, 0.22361332163540204, 0.6788359824560359, 0.029000212992731308, 0.006083358826037666, 0.6320277666913673, 0.3201205323584962, 0.051100550058593874, 0.6292371762837293, 0.03864643873884089, 0.02481565734541673, 0.02369160773304893, 0.07682050776920063, 0.003100164086856539, 0.03614184840010044, 0.55101658819143, 0.33416444593948896, 0.031836649051083604, 0.002056218007667726, 0.06245439000301463, 0.05874421960230061, 0.0919358027200751, 0.04044402825501271, 0.4742080571781814, 0.06856357990745504, 0.006897649667073071, 0.074926587512551, 0.03524818604910541, 0.05749141368302056, 0.04246958391643917, 0.2518844815716017, 0.12230641269621009, 0.6956063904006937, 0.046499409134436606, 0.07543301612289526, 0.5862250259312016, 0.25253645959302207, 0.004274767299731073, 0.319052789042712, 0.21251910598450713, 0.06486760851761286, 0.06515653538231905, 0.17128117873667156, 0.04360582555446279, 0.1133635442911679, 0.07522588450977756, 0.13613695338050869, 0.28181470241124473, 0.02748014202292231, 0.033538611438762696, 0.040028280758858864, 0.5754869629322787, 0.5203711974546898, 0.027586549225467567, 0.6520432668827454, 0.3739795849030464, 0.1443561153166627, 0.029990243737802003, 0.04864446102474296, 0.4894802045035341, 0.028125193519137892, 0.04844555702070621, 0.3165911762700373, 0.6430782859412482, 0.011892860114124099, 0.04350564390575196, 0.6205045616724014, 0.03292115126783172, 0.6420952618214061, 0.0010393244145689557, 0.7191064739422687, 0.5627013463838035, 0.6310315686190773, 0.0058905070160774, 0.34695525218966966, 0.053983602861018755, 0.06253764045576858, 0.032325889539999854, 0.6118893824024726, 0.0453006375916159, 0.05253210885588537, 0.03896811083194714, 0.022159358843443444, 0.051423733034787124, 0.040963844688598296, 0.4333997363011583, 0.36086136818975983, 0.02889181486230454, 0.5749229610580293, 0.21392762768256393, 0.017670236032734477, 0.3210683044250921, 0.005907716468848816, 0.6124646523763094, 0.13744117319892757, 0.011850170007532499, 0.015874034808786436, 0.5636231667027476, 0.0442016858024943, 0.18404199284619133, 0.0010626488923685315, 0.49432423092224026, 0.7159413681926756, 0.48323141303641115, 0.056515778683241084, 0.013906713073521069, 0.1518864272120562, 0.5972633035683292, 0.02518541658119113, 0.3810038219286646, 0.09361115384967318, 0.12281746118439399, 0.04176982690228905, 0.028148636230334145, 0.32492410437865277, 0.4021696533948722, 0.0398949849398306, 0.1687956471974456, 0.4974438653013976, 0.056435340272264746, 0.035617993639861505, 0.07618692832983845, 0.010302155710841724, 0.17692833930023794, 0.05354411444730188, 0.10635069064072794, 0.6798946319916942, 0.027444518959746093, 0.0033148229829620475, 0.08377830262184058, 0.6682633979994211, 0.25598446340544057, 0.01939631387569776, 0.11092155203321277, 0.6898011663461416, 0.03883183754752605, 0.06011822217227588, 0.4235935969875353, 0.04094475362292939, 0.2191053463055444]\n"
     ]
    }
   ],
   "source": [
    "#4.5\n",
    "temp = []\n",
    "for i in store:\n",
    "    temp.append(int(i))\n",
    "x = temp\n",
    "y = []\n",
    "for i in x:\n",
    "    if(x[i] == 0):\n",
    "        y.append(random.uniform(mini, med))\n",
    "    else:\n",
    "        y.append(random.uniform(med, maxi))\n",
    "print(y)"
   ]
  },
  {
   "cell_type": "code",
   "execution_count": 97,
   "id": "6843a6dc",
   "metadata": {},
   "outputs": [
    {
     "data": {
      "image/png": "[encoded data removed]",
      "text/plain": [
       "<Figure size 432x288 with 1 Axes>"
      ]
     },
     "metadata": {
      "needs_background": "light"
     },
     "output_type": "display_data"
    }
   ],
   "source": [
    "#4.6\n",
    "\n",
    "x = pd.DataFrame(y)\n",
    "plt.hist(x)\n",
    "plt.ylabel('time')\n",
    "plt.xlabel('delay')\n",
    "plt.title('New Covert Packet Stream')\n",
    "\n",
    "plt.show()\n"
   ]
  },
  {
   "cell_type": "code",
   "execution_count": null,
   "id": "9edafe21",
   "metadata": {},
   "outputs": [],
   "source": [
    "#4.6\n",
    "#No she will not be suspicious because the graph is similar to the delays shown from the overt packet stream."
   ]
  },
  {
   "cell_type": "code",
   "execution_count": 41,
   "id": "7e60734b",
   "metadata": {},
   "outputs": [],
   "source": [
    "#4.7\n",
    "#1. One way to improve upon the method is by using a normal distribution to get a better representation. \n",
    "#   The mean and standard deviation will help make the data and graph more convincing.\n",
    "\n",
    "#2. This is unrealistic because this will never be able to occur in a real life situation where there is already a call before the process has began.\n",
    "#3. If there was an alteration on the inter-packet delays, it would disrupt the buffer which would possibly lead to overflows and underflow.\n",
    "#   A method to mitigate the changes would be to do network routing protocols."
   ]
  },
  {
   "cell_type": "code",
   "execution_count": 146,
   "id": "dd04e680",
   "metadata": {},
   "outputs": [
    {
     "name": "stderr",
     "output_type": "stream",
     "text": [
      "100%|██████████| 5/5 [00:10<00:00,  2.18s/it]\n",
      "100%|██████████| 5/5 [00:15<00:00,  3.15s/it]"
     ]
    },
    {
     "name": "stdout",
     "output_type": "stream",
     "text": [
      "------  --  ---------  --------  ---------------------\n",
      "M size  i   Underflow  Overflow  Success\n",
      "16      2   0.06       0.932     0.008000000000000007\n",
      "16      6   0.0        0.994     0.006000000000000005\n",
      "16      10  0.972      0.0       0.028000000000000025\n",
      "16      14  0.0        1.0       0.0\n",
      "16      18  0.0        0.998     0.0020000000000000018\n",
      "32      2   1.0        0.0       0.0\n",
      "32      6   1.0        0.0       0.0\n",
      "32      10  0.0        1.0       0.0\n",
      "32      14  0.996      0.0       0.0040000000000000036\n",
      "32      18  0.992      0.0       0.008000000000000007\n",
      "------  --  ---------  --------  ---------------------\n"
     ]
    },
    {
     "name": "stderr",
     "output_type": "stream",
     "text": [
      "\n"
     ]
    }
   ],
   "source": [
    "#5\n",
    "#Exponential\n",
    "B = 20 #size of buffer\n",
    "i_array = [2,6,10,14,18] #bits inside buffer\n",
    "m_array = [16, 32] #message size\n",
    "table = [[\"M size\", \"i\", \"Underflow\", \"Overflow\", \"Success\"]]\n",
    "buffer = [] #buffer array \n",
    "\n",
    "\n",
    "for m in m_array:\n",
    "    message = []\n",
    "    for i in range(m+B+1):\n",
    "        message.append(random.randint(0,1)) #initialize the message with random bits that are 0 or 1\n",
    "    for i in tqdm(i_array):\n",
    "        bit_send_time = 0 # total bit send time \n",
    "        for element in message:\n",
    "            #exponential constraints \n",
    "            median_exponential = statistics.median(np.random.exponential(1, 500)) #added to buffer\n",
    "            if element == 0:\n",
    "                delay_time = random.uniform(0, median_exponential)\n",
    "            elif element == 1:\n",
    "                delay_time = random.uniform(median_exponential ,5)\n",
    "            bit_send_time += delay_time\n",
    "            buffer.append(bit_send_time)\n",
    "        buffer_size = i\n",
    "        underflow_count = 0\n",
    "        overflow_count = 0\n",
    "        for j in range(500):\n",
    "            delay_array = []\n",
    "            bit_generation_array = []\n",
    "            bit_generation_time = 0\n",
    "            buffer_send_array = []\n",
    "            for element in message:\n",
    "                median_exponential = statistics.median(np.random.exponential(1, 500)) #added to buffer\n",
    "                if element == 0:\n",
    "                    delay_time = random.uniform(0, median_exponential)\n",
    "                elif element == 1:\n",
    "                    delay_time = random.uniform(median_exponential ,5)\n",
    "                delay_array.append(delay_time)\n",
    "                bit_generation_time += delay_time\n",
    "                bit_generation_array.append(bit_generation_time)\n",
    "                buffer_send_array.append(delay_time)\n",
    "            buffer_index = 0 \n",
    "            generation_index = 0\n",
    "            break_boolean = True\n",
    "            \n",
    "            #while loop that will move bits from generation into buffer and check for overflow/underflow\n",
    "            while break_boolean and buffer_index < len(buffer) and generation_index < len(bit_generation_array): #while there are elements in the buffer\n",
    "                if buffer[buffer_index] <= bit_generation_array[generation_index]:\n",
    "                    buffer_index += 1 #means we sent a message\n",
    "                    buffer_size -= 1\n",
    "                    if buffer_size < 0:\n",
    "                        underflow_count += 1\n",
    "                        break_boolean = False\n",
    "                elif buffer[buffer_index] > bit_generation_array[generation_index]:\n",
    "                    bit_send_time += delay_array[generation_index]\n",
    "                    buffer.append(bit_send_time)\n",
    "                    buffer_size += 1\n",
    "                    generation_index += 1\n",
    "                    if buffer_size > B:\n",
    "                        overflow_count += 1\n",
    "                        break_boolean = False\n",
    "#       calculate underflow and overflow probabilities\n",
    "        underflow_prob = underflow_count/ 500\n",
    "        overflow_prob = overflow_count / 500\n",
    "        success_rate = 1 - (underflow_prob + overflow_prob)\n",
    "        table_row = [m, i, underflow_prob, overflow_prob, success_rate]\n",
    "        table.append(table_row)\n",
    "\n",
    "print(tabulate(table))\n",
    "\n",
    "#overflow is when too many packs go into buffer, \n",
    "# underflow is when no packets in the buffer, alice needs to keep sending message but cannot\n",
    "\n",
    "# success is 1-(overflow+underflow)"
   ]
  },
  {
   "cell_type": "code",
   "execution_count": 145,
   "id": "e89b86cb",
   "metadata": {},
   "outputs": [
    {
     "name": "stderr",
     "output_type": "stream",
     "text": [
      "100%|██████████| 5/5 [00:00<00:00, 77.60it/s]\n",
      "100%|██████████| 5/5 [00:00<00:00, 62.64it/s]"
     ]
    },
    {
     "name": "stdout",
     "output_type": "stream",
     "text": [
      "------  --  ---------  --------  ---------------------\n",
      "M size  i   Underflow  Overflow  Success\n",
      "16      2   0.0        0.99      0.010000000000000009\n",
      "16      6   0.0        0.99      0.010000000000000009\n",
      "16      10  0.0        0.994     0.006000000000000005\n",
      "16      14  0.0        0.996     0.0040000000000000036\n",
      "16      18  0.0        1.0       0.0\n",
      "32      2   0.002      0.988     0.010000000000000009\n",
      "32      6   0.0        0.984     0.016000000000000014\n",
      "32      10  0.142      0.854     0.0040000000000000036\n",
      "32      14  0.0        1.0       0.0\n",
      "32      18  0.0        1.0       0.0\n",
      "------  --  ---------  --------  ---------------------\n"
     ]
    },
    {
     "name": "stderr",
     "output_type": "stream",
     "text": [
      "\n"
     ]
    }
   ],
   "source": [
    "#Uniform\n",
    "B = 20 #size of buffer\n",
    "i_array = [2,6,10,14,18] #bits inside buffer\n",
    "m_array = [16, 32] #message size\n",
    "np.random.exponential(1)\n",
    "table = [[\"M size\", \"i\", \"Underflow\", \"Overflow\", \"Success\"]]\n",
    "buffer = [] #buffer array\n",
    "\n",
    "\n",
    "for m in m_array:\n",
    "    message = []\n",
    "    for i in range(m+B+1):\n",
    "        message.append(random.randint(0,1)) #initialize the message with random bits that are 0 or 1\n",
    "    for i in tqdm(i_array):\n",
    "        bit_send_time = 0 # total bit send time \n",
    "        for element in message:\n",
    "            #exponential constraints \n",
    "            delay_time = random.uniform(0,1) #added to buffer\n",
    "            bit_send_time += delay_time\n",
    "            buffer.append(bit_send_time)\n",
    "        buffer_size = i\n",
    "        underflow_count = 0\n",
    "        overflow_count = 0\n",
    "        for j in range(500):\n",
    "            delay_array = []\n",
    "            bit_generation_array = []\n",
    "            bit_generation_time = 0\n",
    "            buffer_send_array = []\n",
    "            for element in message:\n",
    "                delay_time = random.uniform(0,1) #added to buffer\n",
    "                delay_array.append(delay_time)\n",
    "                bit_generation_time += delay_time\n",
    "                bit_generation_array.append(bit_generation_time)\n",
    "                buffer_send_array.append(delay_time)\n",
    "            buffer_index = 0 \n",
    "            generation_index = 0\n",
    "            break_boolean = True\n",
    "             #while loop that will move bits from generation into buffer and check for overflow/underflow\n",
    "            while break_boolean and buffer_index < len(buffer) and generation_index < len(bit_generation_array): #while there are elements in the buffer\n",
    "                if buffer[buffer_index] <= bit_generation_array[generation_index]:\n",
    "                    buffer_index += 1 #means we sent a message\n",
    "                    buffer_size -= 1\n",
    "                    if buffer_size < 0:\n",
    "                        underflow_count += 1\n",
    "                        break_boolean = False\n",
    "                elif buffer[buffer_index] > bit_generation_array[generation_index]:\n",
    "                    bit_send_time += delay_array[generation_index]\n",
    "                    buffer.append(bit_send_time)\n",
    "                    buffer_size += 1\n",
    "                    generation_index += 1\n",
    "                    if buffer_size > B:\n",
    "                        overflow_count += 1\n",
    "                        break_boolean = False\n",
    "#       calculate underflow and overflow probabilities\n",
    "        underflow_prob = underflow_count/ 500\n",
    "        overflow_prob = overflow_count / 500\n",
    "        success_rate = 1 - (underflow_prob + overflow_prob)\n",
    "        table_row = [m, i, underflow_prob, overflow_prob, success_rate]\n",
    "        table.append(table_row)\n",
    "                \n",
    "print(tabulate(table))\n",
    "\n",
    "#overflow is when too many packs go into buffer, \n",
    "# underflow is when no packets in the buffer, alice needs to keep sending message but cannot\n",
    "\n",
    "# success is 1-(overflow+underflow)"
   ]
  },
  {
   "cell_type": "code",
   "execution_count": 137,
   "id": "40b01397",
   "metadata": {},
   "outputs": [],
   "source": [
    "#5\n",
    "#A proposed method to deal with overflow and underflow is to increase the buffer size so that it can intake more packets. \n",
    "#This will allow the packets to continue running without any issues. "
   ]
  },
  {
   "cell_type": "code",
   "execution_count": null,
   "id": "633ba864",
   "metadata": {},
   "outputs": [],
   "source": []
  }
 ],
 "metadata": {
  "kernelspec": {
   "display_name": "Python 3 (ipykernel)",
   "language": "python",
   "name": "python3"
  },
  "language_info": {
   "codemirror_mode": {
    "name": "ipython",
    "version": 3
   },
   "file_extension": ".py",
   "mimetype": "text/x-python",
   "name": "python",
   "nbconvert_exporter": "python",
   "pygments_lexer": "ipython3",
   "version": "3.9.7"
  }
 },
 "nbformat": 4,
 "nbformat_minor": 5
}
